{
 "cells": [
  {
   "cell_type": "markdown",
   "id": "17037e62",
   "metadata": {},
   "source": [
    "### Pair Diccionarios y Sets"
   ]
  },
  {
   "cell_type": "markdown",
   "id": "56012dde",
   "metadata": {},
   "source": [
    "## ejercicios Diccionarios"
   ]
  },
  {
   "cell_type": "markdown",
   "id": "ced03e19",
   "metadata": {},
   "source": [
    "Crear un diccionario vacío\n",
    "\n",
    "Descripción: Crea un diccionario vacío sin ningún par clave-valor."
   ]
  },
  {
   "cell_type": "markdown",
   "id": "a900fd4f",
   "metadata": {},
   "source": [
    "Crear un diccionario con elementos\n",
    "\n",
    "Descripción: Crea un diccionario con pares clave-valor predefinidos. Definir el diccionario con las claves y valores que querais. NOTA El diccionario debe tener al menos 5 pares de clave:valor."
   ]
  },
  {
   "cell_type": "markdown",
   "id": "c56cbe33",
   "metadata": {},
   "source": [
    "Acceder al valor de una clave en un diccionario\n",
    "\n",
    "Descripción: Usando el diccionario creado en el paso anterior, obtén el valor correspondiente a una clave específica que indique el usuario (debereis usar la función input() para preguntar al usuario)."
   ]
  },
  {
   "cell_type": "markdown",
   "id": "969af243",
   "metadata": {},
   "source": [
    "Agregar un nuevo par clave-valor a un diccionario\n",
    "\n",
    "Descripción: Usando el diccionario creado en el ejercicio 2, agrega un nuevo par clave-valor."
   ]
  },
  {
   "cell_type": "markdown",
   "id": "f8f27afc",
   "metadata": {},
   "source": [
    "Actualizar el valor de una clave en un diccionario\n",
    "\n",
    "Descripción: Usando el diccionario creado en el ejercicio 2, actualiza el valor correspondiente a una clave existente. Ejemplo:\n",
    "\n",
    "Copy\n",
    "# dado el siguiente diccionario\n",
    "{'nombre': 'Ana', 'edad': 25, 'ciudad': 'Madrid', 'hijos': 1}\n",
    "\n",
    "# el ouptut esperado es: (ha cambiado el valor de la clave edad)\n",
    "{'nombre': 'Ana', 'edad': 40, 'ciudad': 'Madrid', 'hijos': 1}"
   ]
  },
  {
   "cell_type": "markdown",
   "id": "49b0909d",
   "metadata": {},
   "source": [
    "Eliminar un par clave-valor de un diccionario\n",
    "\n",
    "Descripción: Usando el diccionario creado en el ejercicio 2, elimina un par clave-valor específico que indique el usuario (debereis usar la función input() para preguntar al usuario)."
   ]
  },
  {
   "cell_type": "markdown",
   "id": "2a32d688",
   "metadata": {},
   "source": [
    "Verificar si una clave está presente en un diccionario\n",
    "\n",
    "Descripción: Usando el diccionario creado en el ejercicio 2, verifica si una clave específica está presente en él. La clave a buscar debe ser pasada por el usuario, debereis usar un input()."
   ]
  },
  {
   "cell_type": "code",
   "execution_count": null,
   "id": "f09e79d7",
   "metadata": {},
   "outputs": [],
   "source": [
    "Obtener una lista de todas las claves de un diccionario\n",
    "\n",
    "Descripción: Usando el diccionario creado en el ejercicio 2, obtén una lista con todas las claves que contiene."
   ]
  },
  {
   "cell_type": "markdown",
   "id": "9b94f586",
   "metadata": {},
   "source": [
    "Obtener una lista de todos los valores de un diccionario\n",
    "\n",
    "Descripción: Usando el diccionario creado en el ejercicio 2, obtén una lista con todos los valores que contiene."
   ]
  },
  {
   "cell_type": "markdown",
   "id": "81c504c9",
   "metadata": {},
   "source": [
    "Utilizar el método setdefault() para establecer un valor predeterminado si la clave no existe\n",
    "\n",
    "Descripción: Usando el diccionario creado en el ejercicio 2, obten el valor correspondiente a una clave. Si la clave no existe, establece un valor predeterminado y devuelve dicho valor."
   ]
  },
  {
   "cell_type": "markdown",
   "id": "42df615b",
   "metadata": {},
   "source": [
    "Manipulación de un diccionario utilizando pop() y popitem()\n",
    "\n",
    "Descripción: Usando el diccionario creado en el ejercicio 2, realiza operaciones de eliminación utilizando pop() y popitem(), y observa cómo afectan al diccionario."
   ]
  },
  {
   "cell_type": "markdown",
   "id": "392e572b",
   "metadata": {},
   "source": [
    "### ejercicios sets"
   ]
  },
  {
   "cell_type": "markdown",
   "id": "5627780a",
   "metadata": {},
   "source": [
    "Crear un conjunto vacío\n",
    "\n",
    "Descripción: Crea un conjunto vacío sin ningún elemento."
   ]
  },
  {
   "cell_type": "markdown",
   "id": "af5809b6",
   "metadata": {},
   "source": [
    "Crear un conjunto con elementos\n",
    "\n",
    "Descripción: Crea un conjunto con elementos predefinidos."
   ]
  },
  {
   "cell_type": "markdown",
   "id": "0497f311",
   "metadata": {},
   "source": [
    "Agregar elementos a un conjunto\n",
    "\n",
    "Descripción: Usando el set creado en el ejercicio 2, agrega nuevos elementos. Debereis agregar por separado:\n",
    "\n",
    "Un elemento solo\n",
    "\n",
    "Un par de elementos a la vez."
   ]
  },
  {
   "cell_type": "markdown",
   "id": "9811bc4e",
   "metadata": {},
   "source": [
    "Eliminar un elemento de un conjunto\n",
    "\n",
    "Descripción: Usando el set creado en el ejercicio 2, elimina un elemento especificado por el usuario.\n"
   ]
  },
  {
   "cell_type": "markdown",
   "id": "e71f652b",
   "metadata": {},
   "source": [
    "Verificar la pertenencia de un elemento en un conjunto\n",
    "\n",
    "Descripción: Usando el set creado en el ejercicio 2, verifica si un elemento específico está presente en él."
   ]
  },
  {
   "cell_type": "markdown",
   "id": "ad35d61a",
   "metadata": {},
   "source": [
    "Realizar una unión de conjuntos\n",
    "\n",
    "Descripción: Dados dos conjuntos, realiza una unión de ellos.\n"
   ]
  },
  {
   "cell_type": "markdown",
   "id": "47146733",
   "metadata": {},
   "source": [
    "Realizar una intersección de conjuntos\n",
    "\n",
    "Descripción: Usando dos conjuntos de datos definidos en el ejercicio anterior, realiza una intersección de ellos."
   ]
  },
  {
   "cell_type": "markdown",
   "id": "488b8adb",
   "metadata": {},
   "source": [
    "Realizar una diferencia de conjuntos\n",
    "\n",
    "Descripción: Usando dos conjuntos de datos definidos en el ejercicio anterior, realiza una diferencia entre ellos."
   ]
  },
  {
   "cell_type": "markdown",
   "id": "f438681d",
   "metadata": {},
   "source": [
    "Verificar si un conjunto es subconjunto de otro\n",
    "\n",
    "Descripción: Dados dos conjuntos, verifica si uno es subconjunto del otro."
   ]
  }
 ],
 "metadata": {
  "kernelspec": {
   "display_name": "base",
   "language": "python",
   "name": "python3"
  },
  "language_info": {
   "name": "python",
   "version": "3.13.5"
  }
 },
 "nbformat": 4,
 "nbformat_minor": 5
}
